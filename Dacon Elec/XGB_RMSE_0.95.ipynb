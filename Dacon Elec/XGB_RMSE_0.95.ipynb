{
 "cells": [
  {
   "cell_type": "code",
   "id": "initial_id",
   "metadata": {
    "collapsed": true,
    "ExecuteTime": {
     "end_time": "2025-01-13T08:26:20.488974Z",
     "start_time": "2025-01-13T08:26:19.081106Z"
    }
   },
   "source": [
    "import pandas as pd\n",
    "import numpy as np\n",
    "import matplotlib.pyplot as plt\n",
    "\n",
    "import lightgbm as lgb\n",
    "from sklearn.metrics import mean_squared_error\n",
    "from optuna import Trial\n",
    "import optuna\n",
    "from optuna.samplers import TPESampler\n",
    "from sklearn.model_selection import train_test_split\n",
    "import xgboost as xgb\n",
    "\n",
    "plt.rcParams[\"font.family\"] = \"Malgun Gothic\"  # Windows의 맑은 고딕 폰트 사용\n",
    "plt.rcParams['axes.unicode_minus'] = False  # 한글 사용 시, 마이너스 기호 깨짐 방지"
   ],
   "outputs": [],
   "execution_count": 1
  },
  {
   "metadata": {
    "ExecuteTime": {
     "end_time": "2025-01-13T08:26:21.272358Z",
     "start_time": "2025-01-13T08:26:20.492977Z"
    }
   },
   "cell_type": "code",
   "source": [
    "data = pd.read_csv('train.csv')\n",
    "print(data.head())\n",
    "\n",
    "data =  data.drop(columns=[\"ID\"])\n",
    "print(data.head())\n",
    "\n",
    "test_data = pd.read_csv('test.csv')\n",
    "print(test_data.head())\n",
    "\n",
    "test_data =  test_data.drop(columns=[\"ID\"])\n",
    "print(test_data.head())"
   ],
   "id": "1eccbefbe4404d0e",
   "outputs": [
    {
     "ename": "FileNotFoundError",
     "evalue": "[Errno 2] No such file or directory: 'train.csv'",
     "output_type": "error",
     "traceback": [
      "\u001B[1;31m---------------------------------------------------------------------------\u001B[0m",
      "\u001B[1;31mFileNotFoundError\u001B[0m                         Traceback (most recent call last)",
      "Cell \u001B[1;32mIn[2], line 1\u001B[0m\n\u001B[1;32m----> 1\u001B[0m data \u001B[38;5;241m=\u001B[39m pd\u001B[38;5;241m.\u001B[39mread_csv(\u001B[38;5;124m'\u001B[39m\u001B[38;5;124mtrain.csv\u001B[39m\u001B[38;5;124m'\u001B[39m)\n\u001B[0;32m      2\u001B[0m \u001B[38;5;28mprint\u001B[39m(data\u001B[38;5;241m.\u001B[39mhead())\n\u001B[0;32m      4\u001B[0m data \u001B[38;5;241m=\u001B[39m  data\u001B[38;5;241m.\u001B[39mdrop(columns\u001B[38;5;241m=\u001B[39m[\u001B[38;5;124m\"\u001B[39m\u001B[38;5;124mID\u001B[39m\u001B[38;5;124m\"\u001B[39m])\n",
      "File \u001B[1;32m~\\miniconda3\\envs\\Minnong_pytorch_project\\Lib\\site-packages\\pandas\\io\\parsers\\readers.py:1026\u001B[0m, in \u001B[0;36mread_csv\u001B[1;34m(filepath_or_buffer, sep, delimiter, header, names, index_col, usecols, dtype, engine, converters, true_values, false_values, skipinitialspace, skiprows, skipfooter, nrows, na_values, keep_default_na, na_filter, verbose, skip_blank_lines, parse_dates, infer_datetime_format, keep_date_col, date_parser, date_format, dayfirst, cache_dates, iterator, chunksize, compression, thousands, decimal, lineterminator, quotechar, quoting, doublequote, escapechar, comment, encoding, encoding_errors, dialect, on_bad_lines, delim_whitespace, low_memory, memory_map, float_precision, storage_options, dtype_backend)\u001B[0m\n\u001B[0;32m   1013\u001B[0m kwds_defaults \u001B[38;5;241m=\u001B[39m _refine_defaults_read(\n\u001B[0;32m   1014\u001B[0m     dialect,\n\u001B[0;32m   1015\u001B[0m     delimiter,\n\u001B[1;32m   (...)\u001B[0m\n\u001B[0;32m   1022\u001B[0m     dtype_backend\u001B[38;5;241m=\u001B[39mdtype_backend,\n\u001B[0;32m   1023\u001B[0m )\n\u001B[0;32m   1024\u001B[0m kwds\u001B[38;5;241m.\u001B[39mupdate(kwds_defaults)\n\u001B[1;32m-> 1026\u001B[0m \u001B[38;5;28;01mreturn\u001B[39;00m _read(filepath_or_buffer, kwds)\n",
      "File \u001B[1;32m~\\miniconda3\\envs\\Minnong_pytorch_project\\Lib\\site-packages\\pandas\\io\\parsers\\readers.py:620\u001B[0m, in \u001B[0;36m_read\u001B[1;34m(filepath_or_buffer, kwds)\u001B[0m\n\u001B[0;32m    617\u001B[0m _validate_names(kwds\u001B[38;5;241m.\u001B[39mget(\u001B[38;5;124m\"\u001B[39m\u001B[38;5;124mnames\u001B[39m\u001B[38;5;124m\"\u001B[39m, \u001B[38;5;28;01mNone\u001B[39;00m))\n\u001B[0;32m    619\u001B[0m \u001B[38;5;66;03m# Create the parser.\u001B[39;00m\n\u001B[1;32m--> 620\u001B[0m parser \u001B[38;5;241m=\u001B[39m TextFileReader(filepath_or_buffer, \u001B[38;5;241m*\u001B[39m\u001B[38;5;241m*\u001B[39mkwds)\n\u001B[0;32m    622\u001B[0m \u001B[38;5;28;01mif\u001B[39;00m chunksize \u001B[38;5;129;01mor\u001B[39;00m iterator:\n\u001B[0;32m    623\u001B[0m     \u001B[38;5;28;01mreturn\u001B[39;00m parser\n",
      "File \u001B[1;32m~\\miniconda3\\envs\\Minnong_pytorch_project\\Lib\\site-packages\\pandas\\io\\parsers\\readers.py:1620\u001B[0m, in \u001B[0;36mTextFileReader.__init__\u001B[1;34m(self, f, engine, **kwds)\u001B[0m\n\u001B[0;32m   1617\u001B[0m     \u001B[38;5;28mself\u001B[39m\u001B[38;5;241m.\u001B[39moptions[\u001B[38;5;124m\"\u001B[39m\u001B[38;5;124mhas_index_names\u001B[39m\u001B[38;5;124m\"\u001B[39m] \u001B[38;5;241m=\u001B[39m kwds[\u001B[38;5;124m\"\u001B[39m\u001B[38;5;124mhas_index_names\u001B[39m\u001B[38;5;124m\"\u001B[39m]\n\u001B[0;32m   1619\u001B[0m \u001B[38;5;28mself\u001B[39m\u001B[38;5;241m.\u001B[39mhandles: IOHandles \u001B[38;5;241m|\u001B[39m \u001B[38;5;28;01mNone\u001B[39;00m \u001B[38;5;241m=\u001B[39m \u001B[38;5;28;01mNone\u001B[39;00m\n\u001B[1;32m-> 1620\u001B[0m \u001B[38;5;28mself\u001B[39m\u001B[38;5;241m.\u001B[39m_engine \u001B[38;5;241m=\u001B[39m \u001B[38;5;28mself\u001B[39m\u001B[38;5;241m.\u001B[39m_make_engine(f, \u001B[38;5;28mself\u001B[39m\u001B[38;5;241m.\u001B[39mengine)\n",
      "File \u001B[1;32m~\\miniconda3\\envs\\Minnong_pytorch_project\\Lib\\site-packages\\pandas\\io\\parsers\\readers.py:1880\u001B[0m, in \u001B[0;36mTextFileReader._make_engine\u001B[1;34m(self, f, engine)\u001B[0m\n\u001B[0;32m   1878\u001B[0m     \u001B[38;5;28;01mif\u001B[39;00m \u001B[38;5;124m\"\u001B[39m\u001B[38;5;124mb\u001B[39m\u001B[38;5;124m\"\u001B[39m \u001B[38;5;129;01mnot\u001B[39;00m \u001B[38;5;129;01min\u001B[39;00m mode:\n\u001B[0;32m   1879\u001B[0m         mode \u001B[38;5;241m+\u001B[39m\u001B[38;5;241m=\u001B[39m \u001B[38;5;124m\"\u001B[39m\u001B[38;5;124mb\u001B[39m\u001B[38;5;124m\"\u001B[39m\n\u001B[1;32m-> 1880\u001B[0m \u001B[38;5;28mself\u001B[39m\u001B[38;5;241m.\u001B[39mhandles \u001B[38;5;241m=\u001B[39m get_handle(\n\u001B[0;32m   1881\u001B[0m     f,\n\u001B[0;32m   1882\u001B[0m     mode,\n\u001B[0;32m   1883\u001B[0m     encoding\u001B[38;5;241m=\u001B[39m\u001B[38;5;28mself\u001B[39m\u001B[38;5;241m.\u001B[39moptions\u001B[38;5;241m.\u001B[39mget(\u001B[38;5;124m\"\u001B[39m\u001B[38;5;124mencoding\u001B[39m\u001B[38;5;124m\"\u001B[39m, \u001B[38;5;28;01mNone\u001B[39;00m),\n\u001B[0;32m   1884\u001B[0m     compression\u001B[38;5;241m=\u001B[39m\u001B[38;5;28mself\u001B[39m\u001B[38;5;241m.\u001B[39moptions\u001B[38;5;241m.\u001B[39mget(\u001B[38;5;124m\"\u001B[39m\u001B[38;5;124mcompression\u001B[39m\u001B[38;5;124m\"\u001B[39m, \u001B[38;5;28;01mNone\u001B[39;00m),\n\u001B[0;32m   1885\u001B[0m     memory_map\u001B[38;5;241m=\u001B[39m\u001B[38;5;28mself\u001B[39m\u001B[38;5;241m.\u001B[39moptions\u001B[38;5;241m.\u001B[39mget(\u001B[38;5;124m\"\u001B[39m\u001B[38;5;124mmemory_map\u001B[39m\u001B[38;5;124m\"\u001B[39m, \u001B[38;5;28;01mFalse\u001B[39;00m),\n\u001B[0;32m   1886\u001B[0m     is_text\u001B[38;5;241m=\u001B[39mis_text,\n\u001B[0;32m   1887\u001B[0m     errors\u001B[38;5;241m=\u001B[39m\u001B[38;5;28mself\u001B[39m\u001B[38;5;241m.\u001B[39moptions\u001B[38;5;241m.\u001B[39mget(\u001B[38;5;124m\"\u001B[39m\u001B[38;5;124mencoding_errors\u001B[39m\u001B[38;5;124m\"\u001B[39m, \u001B[38;5;124m\"\u001B[39m\u001B[38;5;124mstrict\u001B[39m\u001B[38;5;124m\"\u001B[39m),\n\u001B[0;32m   1888\u001B[0m     storage_options\u001B[38;5;241m=\u001B[39m\u001B[38;5;28mself\u001B[39m\u001B[38;5;241m.\u001B[39moptions\u001B[38;5;241m.\u001B[39mget(\u001B[38;5;124m\"\u001B[39m\u001B[38;5;124mstorage_options\u001B[39m\u001B[38;5;124m\"\u001B[39m, \u001B[38;5;28;01mNone\u001B[39;00m),\n\u001B[0;32m   1889\u001B[0m )\n\u001B[0;32m   1890\u001B[0m \u001B[38;5;28;01massert\u001B[39;00m \u001B[38;5;28mself\u001B[39m\u001B[38;5;241m.\u001B[39mhandles \u001B[38;5;129;01mis\u001B[39;00m \u001B[38;5;129;01mnot\u001B[39;00m \u001B[38;5;28;01mNone\u001B[39;00m\n\u001B[0;32m   1891\u001B[0m f \u001B[38;5;241m=\u001B[39m \u001B[38;5;28mself\u001B[39m\u001B[38;5;241m.\u001B[39mhandles\u001B[38;5;241m.\u001B[39mhandle\n",
      "File \u001B[1;32m~\\miniconda3\\envs\\Minnong_pytorch_project\\Lib\\site-packages\\pandas\\io\\common.py:873\u001B[0m, in \u001B[0;36mget_handle\u001B[1;34m(path_or_buf, mode, encoding, compression, memory_map, is_text, errors, storage_options)\u001B[0m\n\u001B[0;32m    868\u001B[0m \u001B[38;5;28;01melif\u001B[39;00m \u001B[38;5;28misinstance\u001B[39m(handle, \u001B[38;5;28mstr\u001B[39m):\n\u001B[0;32m    869\u001B[0m     \u001B[38;5;66;03m# Check whether the filename is to be opened in binary mode.\u001B[39;00m\n\u001B[0;32m    870\u001B[0m     \u001B[38;5;66;03m# Binary mode does not support 'encoding' and 'newline'.\u001B[39;00m\n\u001B[0;32m    871\u001B[0m     \u001B[38;5;28;01mif\u001B[39;00m ioargs\u001B[38;5;241m.\u001B[39mencoding \u001B[38;5;129;01mand\u001B[39;00m \u001B[38;5;124m\"\u001B[39m\u001B[38;5;124mb\u001B[39m\u001B[38;5;124m\"\u001B[39m \u001B[38;5;129;01mnot\u001B[39;00m \u001B[38;5;129;01min\u001B[39;00m ioargs\u001B[38;5;241m.\u001B[39mmode:\n\u001B[0;32m    872\u001B[0m         \u001B[38;5;66;03m# Encoding\u001B[39;00m\n\u001B[1;32m--> 873\u001B[0m         handle \u001B[38;5;241m=\u001B[39m \u001B[38;5;28mopen\u001B[39m(\n\u001B[0;32m    874\u001B[0m             handle,\n\u001B[0;32m    875\u001B[0m             ioargs\u001B[38;5;241m.\u001B[39mmode,\n\u001B[0;32m    876\u001B[0m             encoding\u001B[38;5;241m=\u001B[39mioargs\u001B[38;5;241m.\u001B[39mencoding,\n\u001B[0;32m    877\u001B[0m             errors\u001B[38;5;241m=\u001B[39merrors,\n\u001B[0;32m    878\u001B[0m             newline\u001B[38;5;241m=\u001B[39m\u001B[38;5;124m\"\u001B[39m\u001B[38;5;124m\"\u001B[39m,\n\u001B[0;32m    879\u001B[0m         )\n\u001B[0;32m    880\u001B[0m     \u001B[38;5;28;01melse\u001B[39;00m:\n\u001B[0;32m    881\u001B[0m         \u001B[38;5;66;03m# Binary mode\u001B[39;00m\n\u001B[0;32m    882\u001B[0m         handle \u001B[38;5;241m=\u001B[39m \u001B[38;5;28mopen\u001B[39m(handle, ioargs\u001B[38;5;241m.\u001B[39mmode)\n",
      "\u001B[1;31mFileNotFoundError\u001B[0m: [Errno 2] No such file or directory: 'train.csv'"
     ]
    }
   ],
   "execution_count": 2
  },
  {
   "metadata": {
    "ExecuteTime": {
     "end_time": "2025-01-13T08:26:21.273872500Z",
     "start_time": "2025-01-13T08:23:40.225240Z"
    }
   },
   "cell_type": "code",
   "source": [
    "missing_count = data.isnull().sum()\n",
    "print(missing_count)"
   ],
   "id": "de0f00182b4eb2b7",
   "outputs": [
    {
     "name": "stdout",
     "output_type": "stream",
     "text": [
      "제조사            0\n",
      "모델             0\n",
      "차량상태           0\n",
      "배터리용량       2711\n",
      "구동방식           0\n",
      "주행거리(km)       0\n",
      "보증기간(년)        0\n",
      "사고이력           0\n",
      "연식(년)          0\n",
      "가격(백만원)        0\n",
      "dtype: int64\n"
     ]
    }
   ],
   "execution_count": 21
  },
  {
   "metadata": {},
   "cell_type": "markdown",
   "source": [
    "결측치 처리가 핵심이다 ㅇㅇ\n",
    "\n",
    "결측치 확인\n",
    "\n",
    "결측치 처리를 위한 배터리 용량 분석\n",
    "\n",
    "상관계수 분석\n",
    "-> 결측치를 처리하기 위해서 가장 관련있는 값들은 무엇인가?\n",
    "\n",
    "\n"
   ],
   "id": "ccce6f90dde7852d"
  },
  {
   "metadata": {
    "ExecuteTime": {
     "end_time": "2025-01-13T08:26:21.279872500Z",
     "start_time": "2025-01-13T08:23:40.242083Z"
    }
   },
   "cell_type": "code",
   "source": [
    "average_warranty_by_model = data.groupby('모델')['보증기간(년)'].mean().sort_values(ascending=True)\n",
    "\n",
    "# 결과 출력\n",
    "print(\"모델별 평균 보증기간:\")\n",
    "print(average_warranty_by_model)"
   ],
   "id": "7f6eea16a9f357c9",
   "outputs": [
    {
     "name": "stdout",
     "output_type": "stream",
     "text": [
      "모델별 평균 보증기간:\n",
      "모델\n",
      "TayCT     1.764179\n",
      "Tay       1.808864\n",
      "TayGTS    1.816000\n",
      "IONIQ     1.978571\n",
      "i5        3.570048\n",
      "i3        3.659794\n",
      "eT        4.807388\n",
      "MY        4.837370\n",
      "ID4       4.867769\n",
      "MX        4.878788\n",
      "MS        4.920578\n",
      "RSeTGT    4.922078\n",
      "M3        4.960573\n",
      "Q4eT      4.989418\n",
      "Niro      5.396985\n",
      "Soul      5.554156\n",
      "ION6      6.773087\n",
      "ION5      6.852691\n",
      "KNE       6.876712\n",
      "iX        7.534060\n",
      "EV6       9.476965\n",
      "Name: 보증기간(년), dtype: float64\n"
     ]
    }
   ],
   "execution_count": 22
  },
  {
   "metadata": {
    "ExecuteTime": {
     "end_time": "2025-01-13T08:26:21.280872800Z",
     "start_time": "2025-01-13T08:23:40.260206Z"
    }
   },
   "cell_type": "code",
   "source": [
    "# 배터리 용량 결측치 처리\n",
    "upper7 = data[data['보증기간(년)']>=7]['배터리용량'].mean()\n",
    "lower7 = data[data['보증기간(년)']<7]['배터리용량'].mean()\n",
    "\n",
    "data.fillna(-1, inplace=True)\n",
    "test_data.fillna(-1, inplace=True)\n",
    "def fill_battery(row):\n",
    "    if row['배터리용량'] == -1:\n",
    "        if row['보증기간(년)'] >= 7:\n",
    "            return upper7\n",
    "        else:\n",
    "            return lower7\n",
    "    return row['배터리용량']\n",
    "\n",
    "data['배터리용량'] = data.apply(fill_battery, axis=1)\n",
    "test_data['배터리용량'] = test_data.apply(fill_battery, axis=1)\n",
    "\n",
    "missing_count = data.isnull().sum()\n",
    "print(missing_count)\n",
    "print(\"구분선\")\n",
    "missing_count = test_data.isnull().sum()\n",
    "print(missing_count)\n"
   ],
   "id": "f39b8c25fb455b25",
   "outputs": [
    {
     "name": "stdout",
     "output_type": "stream",
     "text": [
      "제조사         0\n",
      "모델          0\n",
      "차량상태        0\n",
      "배터리용량       0\n",
      "구동방식        0\n",
      "주행거리(km)    0\n",
      "보증기간(년)     0\n",
      "사고이력        0\n",
      "연식(년)       0\n",
      "가격(백만원)     0\n",
      "dtype: int64\n",
      "구분선\n",
      "제조사         0\n",
      "모델          0\n",
      "차량상태        0\n",
      "배터리용량       0\n",
      "구동방식        0\n",
      "주행거리(km)    0\n",
      "보증기간(년)     0\n",
      "사고이력        0\n",
      "연식(년)       0\n",
      "dtype: int64\n"
     ]
    }
   ],
   "execution_count": 23
  },
  {
   "metadata": {
    "ExecuteTime": {
     "end_time": "2025-01-13T08:26:21.281872700Z",
     "start_time": "2025-01-13T08:23:40.305980Z"
    }
   },
   "cell_type": "code",
   "source": [
    "\n",
    "data['배터리용량'] = data.groupby('모델')['배터리용량'].transform(lambda x: x.fillna(x.mean()))\n",
    "print(data[['모델', '배터리용량']].drop_duplicates())\n",
    "print(data.isnull().sum())\n",
    "\n",
    "# 트레인 데이터의 모델별 평균 계산\n",
    "model_avg_battery_capacity = data.groupby('모델')['배터리용량'].mean()\n",
    "\n",
    "# 테스트 데이터를 트레인 데이터의 평균으로 처리\n",
    "test_data['배터리용량'] = test_data.apply(\n",
    "    lambda row: model_avg_battery_capacity[row['모델']]\n",
    "    if pd.isnull(row['배터리용량']) and row['모델'] in model_avg_battery_capacity\n",
    "    else row['배터리용량'],\n",
    "    axis=1\n",
    ")\n"
   ],
   "id": "9744f5d9d0992f4b",
   "outputs": [
    {
     "name": "stdout",
     "output_type": "stream",
     "text": [
      "          모델      배터리용량\n",
      "0     TayGTS  86.077000\n",
      "1       Niro  56.000000\n",
      "2         eT  91.200000\n",
      "3     RSeTGT  63.932581\n",
      "4         i5  61.018000\n",
      "...      ...        ...\n",
      "7312   IONIQ  46.090000\n",
      "7372   IONIQ  56.410000\n",
      "7379   IONIQ  49.970000\n",
      "7459   IONIQ  72.960000\n",
      "7487   IONIQ  67.170000\n",
      "\n",
      "[267 rows x 2 columns]\n",
      "제조사         0\n",
      "모델          0\n",
      "차량상태        0\n",
      "배터리용량       0\n",
      "구동방식        0\n",
      "주행거리(km)    0\n",
      "보증기간(년)     0\n",
      "사고이력        0\n",
      "연식(년)       0\n",
      "가격(백만원)     0\n",
      "dtype: int64\n"
     ]
    }
   ],
   "execution_count": 24
  },
  {
   "metadata": {},
   "cell_type": "markdown",
   "source": "# 제조사별 평균 가격 -> 굳이 건들필요 없다.",
   "id": "21e95122f6c85282"
  },
  {
   "metadata": {
    "ExecuteTime": {
     "end_time": "2025-01-13T08:26:21.283377600Z",
     "start_time": "2025-01-13T08:23:40.330100Z"
    }
   },
   "cell_type": "code",
   "source": [
    "# target_encoding\n",
    "# 범주형 데이터가 가격과 같은 타겟변수와 상관관계가 높은 경우 사용\n",
    "\n",
    "manufacturer_target_mean = data.groupby('제조사')['가격(백만원)'].mean()\n",
    "data['제조사'] = data['제조사'].map(manufacturer_target_mean)\n",
    "\n",
    "test_data['제조사'] = test_data['제조사'].map(manufacturer_target_mean)"
   ],
   "id": "1e7a45f1e5ab02fb",
   "outputs": [],
   "execution_count": 25
  },
  {
   "metadata": {},
   "cell_type": "markdown",
   "source": "# 차량 모델별 평균 가격 -> 굳이 건들 필요 없어 보임",
   "id": "76ba423d4de4d93e"
  },
  {
   "metadata": {
    "ExecuteTime": {
     "end_time": "2025-01-13T08:26:21.284382100Z",
     "start_time": "2025-01-13T08:23:40.348347Z"
    }
   },
   "cell_type": "code",
   "source": [
    "car_avg_price = data.groupby('모델')['가격(백만원)'].mean().sort_values(ascending=True)\n",
    "\n",
    "price_categories_car = {}\n",
    "\n",
    "# 차량 모델과 인덱스를 추출\n",
    "for idx, price in enumerate(car_avg_price.items()):\n",
    "    price_categories_car[idx] = [price[0]]  # 모델이 키, 가격이 값\n",
    "\n",
    "print(price_categories_car)\n",
    "\n",
    "# 범주 데이터 -> 수치 변환\n",
    "model_to_weight_car = {model: weight for weight, models in price_categories_car.items() for model in models}\n",
    "# 기존 'vehicle' 열의 데이터를 가격 범주(정수 값)으로 덮어쓰기"
   ],
   "id": "ffb28a247f65b6bf",
   "outputs": [
    {
     "name": "stdout",
     "output_type": "stream",
     "text": [
      "{0: ['IONIQ'], 1: ['Soul'], 2: ['i3'], 3: ['KNE'], 4: ['Niro'], 5: ['ION5'], 6: ['ION6'], 7: ['ID4'], 8: ['EV6'], 9: ['M3'], 10: ['Q4eT'], 11: ['i5'], 12: ['eT'], 13: ['MY'], 14: ['MS'], 15: ['iX'], 16: ['MX'], 17: ['RSeTGT'], 18: ['Tay'], 19: ['TayCT'], 20: ['TayGTS']}\n"
     ]
    }
   ],
   "execution_count": 26
  },
  {
   "metadata": {
    "ExecuteTime": {
     "end_time": "2025-01-13T08:26:21.284382100Z",
     "start_time": "2025-01-13T08:23:40.363511Z"
    }
   },
   "cell_type": "code",
   "source": [
    "grouped_avg_price = data.groupby(['모델', '구동방식'])['가격(백만원)'].mean().reset_index()\n",
    "\n",
    "price_categories_mech = {\n",
    "    1: [\"FWD\"], # 전륜 구동\n",
    "    2: [\"RWD\"], #  후륜 구동\n",
    "    3: [\"AWD\"] # 4륜 구동\n",
    "}\n",
    "# 범주 데이터 -> 수치 변환\n",
    "model_to_weight_mech = {model: weight for weight, models in price_categories_mech.items() for model in models}\n",
    "# 기존 'vehicle' 열의 데이터를 가격 범주(정수 값)으로 덮어쓰기"
   ],
   "id": "a5ec633606368bd3",
   "outputs": [],
   "execution_count": 27
  },
  {
   "metadata": {
    "ExecuteTime": {
     "end_time": "2025-01-13T08:26:21.285381400Z",
     "start_time": "2025-01-13T08:23:40.377966Z"
    }
   },
   "cell_type": "code",
   "source": [
    "used_avg_price = data.groupby('차량상태')['가격(백만원)'].mean().sort_values(ascending=True)\n",
    "\n",
    "# 차종별 차량상태에 따른 평균 가격 계산\n",
    "grouped_avg_price = data.groupby(['모델', '차량상태'])['가격(백만원)'].mean().reset_index()\n",
    "\n",
    "price_categories_used = {\n",
    "    1: [\"Pre-Owned\"], # 중고\n",
    "    2: [\"Nearly New\"], #  거의 새것\n",
    "    3: [\"Brand New\"] # 새 것\n",
    "}\n",
    "# 범주 데이터 -> 수치 변환\n",
    "model_to_weight_used = {model: weight for weight, models in price_categories_used.items() for model in models}\n",
    "# 기존 'vehicle' 열의 데이터를 가격 범주(정수 값)으로 덮어쓰기"
   ],
   "id": "681597d3fe84a323",
   "outputs": [],
   "execution_count": 28
  },
  {
   "metadata": {
    "ExecuteTime": {
     "end_time": "2025-01-13T08:26:21.285381400Z",
     "start_time": "2025-01-13T08:23:40.393012Z"
    }
   },
   "cell_type": "code",
   "source": [
    "accident_avg_price = data.groupby('사고이력')['가격(백만원)'].mean().sort_values(ascending=True)\n",
    "\n",
    "price_categories_accident = {\n",
    "    0: [\"Yes\"], # 사고 유무 o\n",
    "    1 : [\"No\"], # 사고 유무 X\n",
    "}\n",
    "\n",
    "model_to_weight_accident = {model: weight for weight, models in price_categories_accident.items() for model in models}"
   ],
   "id": "30679b7b360b221b",
   "outputs": [],
   "execution_count": 29
  },
  {
   "metadata": {
    "ExecuteTime": {
     "end_time": "2025-01-13T08:26:21.286381600Z",
     "start_time": "2025-01-13T08:23:40.406342Z"
    }
   },
   "cell_type": "code",
   "source": [
    "# 차종별 평균 배터리 용량 계산\n",
    "\n",
    "average_battery_capacity = data.groupby('모델')['배터리용량'].mean().sort_values(ascending=True)\n",
    "\n",
    "# Normalize '배터리용량' in data\n",
    "data['배터리용량'] = data.apply(\n",
    "    lambda row: row['배터리용량'] / average_battery_capacity[row['모델']],\n",
    "    axis=1\n",
    ")\n",
    "\n",
    "# Normalize '배터리용량' in test_data using the same average_battery_capacity from data\n",
    "test_data['배터리용량'] = test_data.apply(\n",
    "    lambda row: row['배터리용량'] / average_battery_capacity[row['모델']]\n",
    "    if row['모델'] in average_battery_capacity.index else row['배터리용량'],\n",
    "    axis=1\n",
    ")\n"
   ],
   "id": "2f7330a958561426",
   "outputs": [],
   "execution_count": 30
  },
  {
   "metadata": {},
   "cell_type": "markdown",
   "source": "# 데이터를 공통된 Feature로 처리하려고 하면 잘 처리가 안된다.",
   "id": "3a8548f4d2a67fa2"
  },
  {
   "metadata": {
    "ExecuteTime": {
     "end_time": "2025-01-13T08:26:21.286381600Z",
     "start_time": "2025-01-13T08:23:40.460384Z"
    }
   },
   "cell_type": "code",
   "source": [
    "# 제조사 매핑\n",
    "# print(\"----- 제조사 가격 데이터 모델링 -----\")\n",
    "# data[\"제조사\"] = data[\"제조사\"].map(model_to_weight_maker)\n",
    "\n",
    "#차량 모델 매핑\n",
    "print(\"----- 차량 가격 데이터 모델링 -----\")\n",
    "data[\"모델\"] = data[\"모델\"].map(model_to_weight_car)\n",
    "\n",
    "# 구동 방식 매핑 (컬럼명 수정: '구동방식 ' → '구동방식')\n",
    "print(\"----- 구동방식 데이터 모델링 -----\")\n",
    "data[\"구동방식\"] = data[\"구동방식\"].map(model_to_weight_mech)\n",
    "\n",
    "# 차량 상태 매핑\n",
    "print(\"----- 차량 상태 데이터 모델링 -----\")\n",
    "data[\"차량상태\"] = data[\"차량상태\"].map(model_to_weight_used)\n",
    "\n",
    "# 사고 이력 매핑\n",
    "print(\"----- 사고 이력 데이터 모델링 -----\")\n",
    "data[\"사고이력\"] = data[\"사고이력\"].map(model_to_weight_accident)\n",
    "\n",
    "# 데이터 정보 출력 확인\n",
    "print(\"----- 데이터 변환 확인 -----\")\n",
    "print(data.head())\n",
    "print(\"결측치 확인:\")\n",
    "print(data.isnull().sum())\n",
    "\n",
    "\n",
    "print(\"# -----------------------------------------------------------------\")\n",
    "\n",
    "# print(\"----- 제조사 가격 데이터 모델링 -----\")\n",
    "# test_data[\"제조사\"] = test_data[\"제조사\"].map(model_to_weight_maker)\n",
    "\n",
    "#차량 모델 매핑\n",
    "print(\"----- 차량 가격 데이터 모델링 -----\")\n",
    "test_data[\"모델\"] = test_data[\"모델\"].map(model_to_weight_car)\n",
    "\n",
    "# 구동 방식 매핑 (컬럼명 수정: '구동방식 ' → '구동방식')\n",
    "print(\"----- 구동방식 데이터 모델링 -----\")\n",
    "test_data[\"구동방식\"] = test_data[\"구동방식\"].map(model_to_weight_mech)\n",
    "\n",
    "# 차량 상태 매핑\n",
    "print(\"----- 차량 상태 데이터 모델링 -----\")\n",
    "test_data[\"차량상태\"] = test_data[\"차량상태\"].map(model_to_weight_used)\n",
    "\n",
    "# 사고 이력 매핑\n",
    "print(\"----- 사고 이력 데이터 모델링 -----\")\n",
    "test_data[\"사고이력\"] = test_data[\"사고이력\"].map(model_to_weight_accident)\n",
    "\n",
    "# 데이터 정보 출력 확인\n",
    "print(\"----- 데이터 변환 확인 -----\")\n",
    "print(test_data.head())\n",
    "print(\"결측치 확인:\")"
   ],
   "id": "5fa01640da4dc088",
   "outputs": [
    {
     "name": "stdout",
     "output_type": "stream",
     "text": [
      "----- 차량 가격 데이터 모델링 -----\n",
      "----- 구동방식 데이터 모델링 -----\n",
      "----- 차량 상태 데이터 모델링 -----\n",
      "----- 사고 이력 데이터 모델링 -----\n",
      "----- 데이터 변환 확인 -----\n",
      "          제조사  모델  차량상태     배터리용량  구동방식  주행거리(km)  보증기간(년)  사고이력  연식(년)  \\\n",
      "0  131.990934  20     2  1.142461     3     13642        0     1      2   \n",
      "1   30.779029   4     2  0.954530     1     10199        6     1      0   \n",
      "2   75.128354  12     3  1.124451     3      2361        7     1      0   \n",
      "3   75.128354  17     2  0.836865     3     21683        3     1      0   \n",
      "4   55.212344  11     1  0.880878     3    178205        1     1      0   \n",
      "\n",
      "   가격(백만원)  \n",
      "0   159.66  \n",
      "1    28.01  \n",
      "2    66.27  \n",
      "3    99.16  \n",
      "4    62.02  \n",
      "결측치 확인:\n",
      "제조사         0\n",
      "모델          0\n",
      "차량상태        0\n",
      "배터리용량       0\n",
      "구동방식        0\n",
      "주행거리(km)    0\n",
      "보증기간(년)     0\n",
      "사고이력        0\n",
      "연식(년)       0\n",
      "가격(백만원)     0\n",
      "dtype: int64\n",
      "# -----------------------------------------------------------------\n",
      "----- 차량 가격 데이터 모델링 -----\n",
      "----- 구동방식 데이터 모델링 -----\n",
      "----- 차량 상태 데이터 모델링 -----\n",
      "----- 사고 이력 데이터 모델링 -----\n",
      "----- 데이터 변환 확인 -----\n",
      "          제조사  모델  차량상태     배터리용량  구동방식  주행거리(km)  보증기간(년)  사고이력  연식(년)\n",
      "0  131.990934  19     2  1.051063     3     14057        2     1      0\n",
      "1   55.212344  15     3  1.043365     3      7547        8     1      0\n",
      "2   55.212344  11     3  1.231168     2      7197        7     0      0\n",
      "3   31.312991   5     2  0.931193     3     10357        7     1      1\n",
      "4   30.779029   8     3  0.989762     1      7597       10     1      0\n",
      "결측치 확인:\n"
     ]
    }
   ],
   "execution_count": 31
  },
  {
   "metadata": {
    "ExecuteTime": {
     "end_time": "2025-01-13T08:26:21.287381700Z",
     "start_time": "2025-01-13T08:23:40.483394Z"
    }
   },
   "cell_type": "code",
   "source": [
    "# 다중 공선성 처리 -> 그렇게 도움이 되지는 않았다.\n",
    "\n",
    "# # 두 열을 float 타입으로 변환 후 연산 수행\n",
    "# data['제조사_모델'] = data['제조사'].astype(float) + data['모델'].astype(float)\n",
    "# test_data['제조사_모델'] = test_data['제조사'].astype(float) + test_data['모델'].astype(float)\n",
    "#\n",
    "# # 기존 열 제거\n",
    "# data = data.drop(columns=['제조사', '모델'])\n",
    "# test_data = test_data.drop(columns=['제조사', '모델'])\n",
    "#\n",
    "# # 결과 출력\n",
    "# print(data.head())\n",
    "# print(test_data.head())\n"
   ],
   "id": "807c020879378d29",
   "outputs": [],
   "execution_count": 32
  },
  {
   "metadata": {
    "ExecuteTime": {
     "end_time": "2025-01-13T08:26:21.287381700Z",
     "start_time": "2025-01-13T08:23:40.497663Z"
    }
   },
   "cell_type": "code",
   "source": [
    "print(\"Missing values in data after imputation:\\n\", data.isnull().sum())\n",
    "print(\"\\nMissing values in test_data after imputation:\\n\", test_data.isnull().sum())"
   ],
   "id": "7baacb6054c068bd",
   "outputs": [
    {
     "name": "stdout",
     "output_type": "stream",
     "text": [
      "Missing values in data after imputation:\n",
      " 제조사         0\n",
      "모델          0\n",
      "차량상태        0\n",
      "배터리용량       0\n",
      "구동방식        0\n",
      "주행거리(km)    0\n",
      "보증기간(년)     0\n",
      "사고이력        0\n",
      "연식(년)       0\n",
      "가격(백만원)     0\n",
      "dtype: int64\n",
      "\n",
      "Missing values in test_data after imputation:\n",
      " 제조사         0\n",
      "모델          0\n",
      "차량상태        0\n",
      "배터리용량       0\n",
      "구동방식        0\n",
      "주행거리(km)    0\n",
      "보증기간(년)     0\n",
      "사고이력        0\n",
      "연식(년)       0\n",
      "dtype: int64\n"
     ]
    }
   ],
   "execution_count": 33
  },
  {
   "metadata": {
    "ExecuteTime": {
     "end_time": "2025-01-13T08:26:21.287381700Z",
     "start_time": "2025-01-13T08:23:40.522226Z"
    }
   },
   "cell_type": "code",
   "source": [
    "print(\"결측치 확인:\")\n",
    "final_data_verification = data\n",
    "final_data_verification.to_csv('final_data_LGM_verification.csv', index=False, encoding='utf-8')\n",
    "\n",
    "print(final_data_verification.head())"
   ],
   "id": "5505819a02fcb923",
   "outputs": [
    {
     "name": "stdout",
     "output_type": "stream",
     "text": [
      "결측치 확인:\n",
      "          제조사  모델  차량상태     배터리용량  구동방식  주행거리(km)  보증기간(년)  사고이력  연식(년)  \\\n",
      "0  131.990934  20     2  1.142461     3     13642        0     1      2   \n",
      "1   30.779029   4     2  0.954530     1     10199        6     1      0   \n",
      "2   75.128354  12     3  1.124451     3      2361        7     1      0   \n",
      "3   75.128354  17     2  0.836865     3     21683        3     1      0   \n",
      "4   55.212344  11     1  0.880878     3    178205        1     1      0   \n",
      "\n",
      "   가격(백만원)  \n",
      "0   159.66  \n",
      "1    28.01  \n",
      "2    66.27  \n",
      "3    99.16  \n",
      "4    62.02  \n"
     ]
    }
   ],
   "execution_count": 34
  },
  {
   "metadata": {
    "ExecuteTime": {
     "end_time": "2025-01-13T08:26:21.288381900Z",
     "start_time": "2025-01-13T08:23:40.628270Z"
    }
   },
   "cell_type": "code",
   "source": [
    "train_data_df =  data.drop(columns=['가격(백만원)'])\n",
    "target_data_df = data['가격(백만원)']\n"
   ],
   "id": "193cee56a924df69",
   "outputs": [],
   "execution_count": 35
  },
  {
   "metadata": {
    "ExecuteTime": {
     "end_time": "2025-01-13T08:26:21.289382800Z",
     "start_time": "2025-01-13T08:23:40.651827Z"
    }
   },
   "cell_type": "code",
   "source": "",
   "id": "6da9553e3e48370c",
   "outputs": [],
   "execution_count": null
  },
  {
   "metadata": {
    "ExecuteTime": {
     "end_time": "2025-01-13T08:26:21.289382800Z",
     "start_time": "2025-01-13T08:23:40.676477Z"
    }
   },
   "cell_type": "code",
   "source": [
    "from sklearn.model_selection import KFold\n",
    "from sklearn.metrics import root_mean_squared_error\n",
    "\n",
    "\n",
    "import os\n",
    "# Optuna에서 최적화할 objective 함수\n",
    "def objectiveLR_xgb(trial, train_df, target_df):\n",
    "    params = {\n",
    "        'n_estimators': trial.suggest_int('n_estimators', 50, 300),\n",
    "        'max_depth': trial.suggest_int('max_depth', 3, 12),\n",
    "        'learning_rate': trial.suggest_float('learning_rate', 0.001, 0.1, log=True),\n",
    "        'min_child_weight': trial.suggest_int('min_child_weight', 1, 7),\n",
    "        'subsample': trial.suggest_float('subsample', 0.6, 1.0),\n",
    "        'colsample_bytree': trial.suggest_float('colsample_bytree', 0.6, 1.0),\n",
    "        'gamma': trial.suggest_float('gamma', 1e-8, 1.0, log=True)\n",
    "    }\n",
    "\n",
    "    # K-Fold 교차 검증 설정\n",
    "    n_splits = 100# K-Fold 개수\n",
    "    kf = KFold(n_splits=n_splits, shuffle=True, random_state=42)\n",
    "    rmse_list = []  # 각 Fold의 RMSE 저장\n",
    "\n",
    "    # K-Fold 학습\n",
    "    for train_idx, val_idx in kf.split(train_df):\n",
    "        X_train, X_val = train_df.iloc[train_idx], train_df.iloc[val_idx]\n",
    "        y_train, y_val = target_df.iloc[train_idx], target_df.iloc[val_idx]\n",
    "\n",
    "        # XGBoost 모델 학습\n",
    "        model = xgb.XGBRegressor(objective='reg:squarederror', **params)\n",
    "        model.fit(X_train, y_train)\n",
    "\n",
    "        # 검증 데이터 예측\n",
    "        y_pred = model.predict(X_val)\n",
    "        rmse = root_mean_squared_error(y_val, y_pred)\n",
    "        rmse_list.append(rmse)\n",
    "\n",
    "    # K-Fold 평균 RMSE 반환\n",
    "    return np.mean(rmse_list)\n",
    "\n",
    "\n",
    "# Optuna 환경 설정\n",
    "study_name = \"dacon_temp_xgb_label_target_encode_kfold\"\n",
    "storage_name = f\"sqlite:///optuna/{study_name}.db\"\n",
    "\n",
    "if not os.path.exists(\"optuna\"):\n",
    "    os.makedirs(\"optuna\")\n",
    "\n",
    "try:\n",
    "    # 스터디 생성\n",
    "    study_xgb = optuna.create_study(storage=storage_name,\n",
    "                                    study_name=study_name,\n",
    "                                    direction='minimize',\n",
    "                                    sampler=optuna.samplers.TPESampler(multivariate=True, n_startup_trials=100,\n",
    "                                                                       seed=42))\n",
    "    print(\"create\")\n",
    "\n",
    "except:\n",
    "    # 기존 스터디 로드\n",
    "    study_xgb = optuna.load_study(study_name=study_name,\n",
    "                                  storage=storage_name)\n",
    "    print(\"load\")\n",
    "\n",
    "# Optuna 최적화 실행 (Cross Validation 포함)\n",
    "study_xgb.optimize(lambda trial: objectiveLR_xgb(trial, train_data_df, target_data_df), n_trials=50)\n"
   ],
   "id": "44fe0caaa0b07a02",
   "outputs": [
    {
     "name": "stderr",
     "output_type": "stream",
     "text": [
      "C:\\Users\\kzxx1\\miniconda3\\envs\\Minnong_pytorch_project\\Lib\\site-packages\\optuna\\_experimental.py:31: ExperimentalWarning: Argument ``multivariate`` is an experimental feature. The interface can change in the future.\n",
      "  warnings.warn(\n"
     ]
    },
    {
     "name": "stdout",
     "output_type": "stream",
     "text": [
      "load\n"
     ]
    },
    {
     "name": "stderr",
     "output_type": "stream",
     "text": [
      "[I 2025-01-13 17:23:53,154] Trial 644 finished with value: 1.3384932091970732 and parameters: {'n_estimators': 168, 'max_depth': 7, 'learning_rate': 0.047370572829449765, 'min_child_weight': 2, 'subsample': 0.8087476943233188, 'colsample_bytree': 0.9090189728449318, 'gamma': 3.700898636870677e-08}. Best is trial 595 with value: 1.3214510122168115.\n",
      "[W 2025-01-13 17:23:57,042] Trial 645 failed with parameters: {'n_estimators': 163, 'max_depth': 7, 'learning_rate': 0.06028087409996673, 'min_child_weight': 2, 'subsample': 0.793287673696272, 'colsample_bytree': 0.8922382128865163, 'gamma': 5.479944800224603e-08} because of the following error: KeyboardInterrupt().\n",
      "Traceback (most recent call last):\n",
      "  File \"C:\\Users\\kzxx1\\miniconda3\\envs\\Minnong_pytorch_project\\Lib\\site-packages\\optuna\\study\\_optimize.py\", line 197, in _run_trial\n",
      "    value_or_values = func(trial)\n",
      "                      ^^^^^^^^^^^\n",
      "  File \"C:\\Users\\kzxx1\\AppData\\Local\\Temp\\ipykernel_36256\\3071234822.py\", line 64, in <lambda>\n",
      "    study_xgb.optimize(lambda trial: objectiveLR_xgb(trial, train_data_df, target_data_df), n_trials=50)\n",
      "                                     ^^^^^^^^^^^^^^^^^^^^^^^^^^^^^^^^^^^^^^^^^^^^^^^^^^^^^\n",
      "  File \"C:\\Users\\kzxx1\\AppData\\Local\\Temp\\ipykernel_36256\\3071234822.py\", line 30, in objectiveLR_xgb\n",
      "    model.fit(X_train, y_train)\n",
      "  File \"C:\\Users\\kzxx1\\miniconda3\\envs\\Minnong_pytorch_project\\Lib\\site-packages\\xgboost\\core.py\", line 726, in inner_f\n",
      "    return func(**kwargs)\n",
      "           ^^^^^^^^^^^^^^\n",
      "  File \"C:\\Users\\kzxx1\\miniconda3\\envs\\Minnong_pytorch_project\\Lib\\site-packages\\xgboost\\sklearn.py\", line 1108, in fit\n",
      "    self._Booster = train(\n",
      "                    ^^^^^^\n",
      "  File \"C:\\Users\\kzxx1\\miniconda3\\envs\\Minnong_pytorch_project\\Lib\\site-packages\\xgboost\\core.py\", line 726, in inner_f\n",
      "    return func(**kwargs)\n",
      "           ^^^^^^^^^^^^^^\n",
      "  File \"C:\\Users\\kzxx1\\miniconda3\\envs\\Minnong_pytorch_project\\Lib\\site-packages\\xgboost\\training.py\", line 181, in train\n",
      "    bst.update(dtrain, iteration=i, fobj=obj)\n",
      "  File \"C:\\Users\\kzxx1\\miniconda3\\envs\\Minnong_pytorch_project\\Lib\\site-packages\\xgboost\\core.py\", line 2101, in update\n",
      "    _LIB.XGBoosterUpdateOneIter(\n",
      "KeyboardInterrupt\n",
      "[W 2025-01-13 17:23:57,046] Trial 645 failed with value None.\n"
     ]
    },
    {
     "ename": "KeyboardInterrupt",
     "evalue": "",
     "output_type": "error",
     "traceback": [
      "\u001B[1;31m---------------------------------------------------------------------------\u001B[0m",
      "\u001B[1;31mKeyboardInterrupt\u001B[0m                         Traceback (most recent call last)",
      "Cell \u001B[1;32mIn[36], line 64\u001B[0m\n\u001B[0;32m     61\u001B[0m     \u001B[38;5;28mprint\u001B[39m(\u001B[38;5;124m\"\u001B[39m\u001B[38;5;124mload\u001B[39m\u001B[38;5;124m\"\u001B[39m)\n\u001B[0;32m     63\u001B[0m \u001B[38;5;66;03m# Optuna 최적화 실행 (Cross Validation 포함)\u001B[39;00m\n\u001B[1;32m---> 64\u001B[0m study_xgb\u001B[38;5;241m.\u001B[39moptimize(\u001B[38;5;28;01mlambda\u001B[39;00m trial: objectiveLR_xgb(trial, train_data_df, target_data_df), n_trials\u001B[38;5;241m=\u001B[39m\u001B[38;5;241m50\u001B[39m)\n",
      "File \u001B[1;32m~\\miniconda3\\envs\\Minnong_pytorch_project\\Lib\\site-packages\\optuna\\study\\study.py:475\u001B[0m, in \u001B[0;36mStudy.optimize\u001B[1;34m(self, func, n_trials, timeout, n_jobs, catch, callbacks, gc_after_trial, show_progress_bar)\u001B[0m\n\u001B[0;32m    373\u001B[0m \u001B[38;5;28;01mdef\u001B[39;00m \u001B[38;5;21moptimize\u001B[39m(\n\u001B[0;32m    374\u001B[0m     \u001B[38;5;28mself\u001B[39m,\n\u001B[0;32m    375\u001B[0m     func: ObjectiveFuncType,\n\u001B[1;32m   (...)\u001B[0m\n\u001B[0;32m    382\u001B[0m     show_progress_bar: \u001B[38;5;28mbool\u001B[39m \u001B[38;5;241m=\u001B[39m \u001B[38;5;28;01mFalse\u001B[39;00m,\n\u001B[0;32m    383\u001B[0m ) \u001B[38;5;241m-\u001B[39m\u001B[38;5;241m>\u001B[39m \u001B[38;5;28;01mNone\u001B[39;00m:\n\u001B[0;32m    384\u001B[0m \u001B[38;5;250m    \u001B[39m\u001B[38;5;124;03m\"\"\"Optimize an objective function.\u001B[39;00m\n\u001B[0;32m    385\u001B[0m \n\u001B[0;32m    386\u001B[0m \u001B[38;5;124;03m    Optimization is done by choosing a suitable set of hyperparameter values from a given\u001B[39;00m\n\u001B[1;32m   (...)\u001B[0m\n\u001B[0;32m    473\u001B[0m \u001B[38;5;124;03m            If nested invocation of this method occurs.\u001B[39;00m\n\u001B[0;32m    474\u001B[0m \u001B[38;5;124;03m    \"\"\"\u001B[39;00m\n\u001B[1;32m--> 475\u001B[0m     _optimize(\n\u001B[0;32m    476\u001B[0m         study\u001B[38;5;241m=\u001B[39m\u001B[38;5;28mself\u001B[39m,\n\u001B[0;32m    477\u001B[0m         func\u001B[38;5;241m=\u001B[39mfunc,\n\u001B[0;32m    478\u001B[0m         n_trials\u001B[38;5;241m=\u001B[39mn_trials,\n\u001B[0;32m    479\u001B[0m         timeout\u001B[38;5;241m=\u001B[39mtimeout,\n\u001B[0;32m    480\u001B[0m         n_jobs\u001B[38;5;241m=\u001B[39mn_jobs,\n\u001B[0;32m    481\u001B[0m         catch\u001B[38;5;241m=\u001B[39m\u001B[38;5;28mtuple\u001B[39m(catch) \u001B[38;5;28;01mif\u001B[39;00m \u001B[38;5;28misinstance\u001B[39m(catch, Iterable) \u001B[38;5;28;01melse\u001B[39;00m (catch,),\n\u001B[0;32m    482\u001B[0m         callbacks\u001B[38;5;241m=\u001B[39mcallbacks,\n\u001B[0;32m    483\u001B[0m         gc_after_trial\u001B[38;5;241m=\u001B[39mgc_after_trial,\n\u001B[0;32m    484\u001B[0m         show_progress_bar\u001B[38;5;241m=\u001B[39mshow_progress_bar,\n\u001B[0;32m    485\u001B[0m     )\n",
      "File \u001B[1;32m~\\miniconda3\\envs\\Minnong_pytorch_project\\Lib\\site-packages\\optuna\\study\\_optimize.py:63\u001B[0m, in \u001B[0;36m_optimize\u001B[1;34m(study, func, n_trials, timeout, n_jobs, catch, callbacks, gc_after_trial, show_progress_bar)\u001B[0m\n\u001B[0;32m     61\u001B[0m \u001B[38;5;28;01mtry\u001B[39;00m:\n\u001B[0;32m     62\u001B[0m     \u001B[38;5;28;01mif\u001B[39;00m n_jobs \u001B[38;5;241m==\u001B[39m \u001B[38;5;241m1\u001B[39m:\n\u001B[1;32m---> 63\u001B[0m         _optimize_sequential(\n\u001B[0;32m     64\u001B[0m             study,\n\u001B[0;32m     65\u001B[0m             func,\n\u001B[0;32m     66\u001B[0m             n_trials,\n\u001B[0;32m     67\u001B[0m             timeout,\n\u001B[0;32m     68\u001B[0m             catch,\n\u001B[0;32m     69\u001B[0m             callbacks,\n\u001B[0;32m     70\u001B[0m             gc_after_trial,\n\u001B[0;32m     71\u001B[0m             reseed_sampler_rng\u001B[38;5;241m=\u001B[39m\u001B[38;5;28;01mFalse\u001B[39;00m,\n\u001B[0;32m     72\u001B[0m             time_start\u001B[38;5;241m=\u001B[39m\u001B[38;5;28;01mNone\u001B[39;00m,\n\u001B[0;32m     73\u001B[0m             progress_bar\u001B[38;5;241m=\u001B[39mprogress_bar,\n\u001B[0;32m     74\u001B[0m         )\n\u001B[0;32m     75\u001B[0m     \u001B[38;5;28;01melse\u001B[39;00m:\n\u001B[0;32m     76\u001B[0m         \u001B[38;5;28;01mif\u001B[39;00m n_jobs \u001B[38;5;241m==\u001B[39m \u001B[38;5;241m-\u001B[39m\u001B[38;5;241m1\u001B[39m:\n",
      "File \u001B[1;32m~\\miniconda3\\envs\\Minnong_pytorch_project\\Lib\\site-packages\\optuna\\study\\_optimize.py:160\u001B[0m, in \u001B[0;36m_optimize_sequential\u001B[1;34m(study, func, n_trials, timeout, catch, callbacks, gc_after_trial, reseed_sampler_rng, time_start, progress_bar)\u001B[0m\n\u001B[0;32m    157\u001B[0m         \u001B[38;5;28;01mbreak\u001B[39;00m\n\u001B[0;32m    159\u001B[0m \u001B[38;5;28;01mtry\u001B[39;00m:\n\u001B[1;32m--> 160\u001B[0m     frozen_trial \u001B[38;5;241m=\u001B[39m _run_trial(study, func, catch)\n\u001B[0;32m    161\u001B[0m \u001B[38;5;28;01mfinally\u001B[39;00m:\n\u001B[0;32m    162\u001B[0m     \u001B[38;5;66;03m# The following line mitigates memory problems that can be occurred in some\u001B[39;00m\n\u001B[0;32m    163\u001B[0m     \u001B[38;5;66;03m# environments (e.g., services that use computing containers such as GitHub Actions).\u001B[39;00m\n\u001B[0;32m    164\u001B[0m     \u001B[38;5;66;03m# Please refer to the following PR for further details:\u001B[39;00m\n\u001B[0;32m    165\u001B[0m     \u001B[38;5;66;03m# https://github.com/optuna/optuna/pull/325.\u001B[39;00m\n\u001B[0;32m    166\u001B[0m     \u001B[38;5;28;01mif\u001B[39;00m gc_after_trial:\n",
      "File \u001B[1;32m~\\miniconda3\\envs\\Minnong_pytorch_project\\Lib\\site-packages\\optuna\\study\\_optimize.py:248\u001B[0m, in \u001B[0;36m_run_trial\u001B[1;34m(study, func, catch)\u001B[0m\n\u001B[0;32m    241\u001B[0m         \u001B[38;5;28;01massert\u001B[39;00m \u001B[38;5;28;01mFalse\u001B[39;00m, \u001B[38;5;124m\"\u001B[39m\u001B[38;5;124mShould not reach.\u001B[39m\u001B[38;5;124m\"\u001B[39m\n\u001B[0;32m    243\u001B[0m \u001B[38;5;28;01mif\u001B[39;00m (\n\u001B[0;32m    244\u001B[0m     frozen_trial\u001B[38;5;241m.\u001B[39mstate \u001B[38;5;241m==\u001B[39m TrialState\u001B[38;5;241m.\u001B[39mFAIL\n\u001B[0;32m    245\u001B[0m     \u001B[38;5;129;01mand\u001B[39;00m func_err \u001B[38;5;129;01mis\u001B[39;00m \u001B[38;5;129;01mnot\u001B[39;00m \u001B[38;5;28;01mNone\u001B[39;00m\n\u001B[0;32m    246\u001B[0m     \u001B[38;5;129;01mand\u001B[39;00m \u001B[38;5;129;01mnot\u001B[39;00m \u001B[38;5;28misinstance\u001B[39m(func_err, catch)\n\u001B[0;32m    247\u001B[0m ):\n\u001B[1;32m--> 248\u001B[0m     \u001B[38;5;28;01mraise\u001B[39;00m func_err\n\u001B[0;32m    249\u001B[0m \u001B[38;5;28;01mreturn\u001B[39;00m frozen_trial\n",
      "File \u001B[1;32m~\\miniconda3\\envs\\Minnong_pytorch_project\\Lib\\site-packages\\optuna\\study\\_optimize.py:197\u001B[0m, in \u001B[0;36m_run_trial\u001B[1;34m(study, func, catch)\u001B[0m\n\u001B[0;32m    195\u001B[0m \u001B[38;5;28;01mwith\u001B[39;00m get_heartbeat_thread(trial\u001B[38;5;241m.\u001B[39m_trial_id, study\u001B[38;5;241m.\u001B[39m_storage):\n\u001B[0;32m    196\u001B[0m     \u001B[38;5;28;01mtry\u001B[39;00m:\n\u001B[1;32m--> 197\u001B[0m         value_or_values \u001B[38;5;241m=\u001B[39m func(trial)\n\u001B[0;32m    198\u001B[0m     \u001B[38;5;28;01mexcept\u001B[39;00m exceptions\u001B[38;5;241m.\u001B[39mTrialPruned \u001B[38;5;28;01mas\u001B[39;00m e:\n\u001B[0;32m    199\u001B[0m         \u001B[38;5;66;03m# TODO(mamu): Handle multi-objective cases.\u001B[39;00m\n\u001B[0;32m    200\u001B[0m         state \u001B[38;5;241m=\u001B[39m TrialState\u001B[38;5;241m.\u001B[39mPRUNED\n",
      "Cell \u001B[1;32mIn[36], line 64\u001B[0m, in \u001B[0;36m<lambda>\u001B[1;34m(trial)\u001B[0m\n\u001B[0;32m     61\u001B[0m     \u001B[38;5;28mprint\u001B[39m(\u001B[38;5;124m\"\u001B[39m\u001B[38;5;124mload\u001B[39m\u001B[38;5;124m\"\u001B[39m)\n\u001B[0;32m     63\u001B[0m \u001B[38;5;66;03m# Optuna 최적화 실행 (Cross Validation 포함)\u001B[39;00m\n\u001B[1;32m---> 64\u001B[0m study_xgb\u001B[38;5;241m.\u001B[39moptimize(\u001B[38;5;28;01mlambda\u001B[39;00m trial: objectiveLR_xgb(trial, train_data_df, target_data_df), n_trials\u001B[38;5;241m=\u001B[39m\u001B[38;5;241m50\u001B[39m)\n",
      "Cell \u001B[1;32mIn[36], line 30\u001B[0m, in \u001B[0;36mobjectiveLR_xgb\u001B[1;34m(trial, train_df, target_df)\u001B[0m\n\u001B[0;32m     28\u001B[0m \u001B[38;5;66;03m# XGBoost 모델 학습\u001B[39;00m\n\u001B[0;32m     29\u001B[0m model \u001B[38;5;241m=\u001B[39m xgb\u001B[38;5;241m.\u001B[39mXGBRegressor(objective\u001B[38;5;241m=\u001B[39m\u001B[38;5;124m'\u001B[39m\u001B[38;5;124mreg:squarederror\u001B[39m\u001B[38;5;124m'\u001B[39m, \u001B[38;5;241m*\u001B[39m\u001B[38;5;241m*\u001B[39mparams)\n\u001B[1;32m---> 30\u001B[0m model\u001B[38;5;241m.\u001B[39mfit(X_train, y_train)\n\u001B[0;32m     32\u001B[0m \u001B[38;5;66;03m# 검증 데이터 예측\u001B[39;00m\n\u001B[0;32m     33\u001B[0m y_pred \u001B[38;5;241m=\u001B[39m model\u001B[38;5;241m.\u001B[39mpredict(X_val)\n",
      "File \u001B[1;32m~\\miniconda3\\envs\\Minnong_pytorch_project\\Lib\\site-packages\\xgboost\\core.py:726\u001B[0m, in \u001B[0;36mrequire_keyword_args.<locals>.throw_if.<locals>.inner_f\u001B[1;34m(*args, **kwargs)\u001B[0m\n\u001B[0;32m    724\u001B[0m \u001B[38;5;28;01mfor\u001B[39;00m k, arg \u001B[38;5;129;01min\u001B[39;00m \u001B[38;5;28mzip\u001B[39m(sig\u001B[38;5;241m.\u001B[39mparameters, args):\n\u001B[0;32m    725\u001B[0m     kwargs[k] \u001B[38;5;241m=\u001B[39m arg\n\u001B[1;32m--> 726\u001B[0m \u001B[38;5;28;01mreturn\u001B[39;00m func(\u001B[38;5;241m*\u001B[39m\u001B[38;5;241m*\u001B[39mkwargs)\n",
      "File \u001B[1;32m~\\miniconda3\\envs\\Minnong_pytorch_project\\Lib\\site-packages\\xgboost\\sklearn.py:1108\u001B[0m, in \u001B[0;36mXGBModel.fit\u001B[1;34m(self, X, y, sample_weight, base_margin, eval_set, verbose, xgb_model, sample_weight_eval_set, base_margin_eval_set, feature_weights)\u001B[0m\n\u001B[0;32m   1105\u001B[0m     obj \u001B[38;5;241m=\u001B[39m \u001B[38;5;28;01mNone\u001B[39;00m\n\u001B[0;32m   1107\u001B[0m model, metric, params \u001B[38;5;241m=\u001B[39m \u001B[38;5;28mself\u001B[39m\u001B[38;5;241m.\u001B[39m_configure_fit(xgb_model, params)\n\u001B[1;32m-> 1108\u001B[0m \u001B[38;5;28mself\u001B[39m\u001B[38;5;241m.\u001B[39m_Booster \u001B[38;5;241m=\u001B[39m train(\n\u001B[0;32m   1109\u001B[0m     params,\n\u001B[0;32m   1110\u001B[0m     train_dmatrix,\n\u001B[0;32m   1111\u001B[0m     \u001B[38;5;28mself\u001B[39m\u001B[38;5;241m.\u001B[39mget_num_boosting_rounds(),\n\u001B[0;32m   1112\u001B[0m     evals\u001B[38;5;241m=\u001B[39mevals,\n\u001B[0;32m   1113\u001B[0m     early_stopping_rounds\u001B[38;5;241m=\u001B[39m\u001B[38;5;28mself\u001B[39m\u001B[38;5;241m.\u001B[39mearly_stopping_rounds,\n\u001B[0;32m   1114\u001B[0m     evals_result\u001B[38;5;241m=\u001B[39mevals_result,\n\u001B[0;32m   1115\u001B[0m     obj\u001B[38;5;241m=\u001B[39mobj,\n\u001B[0;32m   1116\u001B[0m     custom_metric\u001B[38;5;241m=\u001B[39mmetric,\n\u001B[0;32m   1117\u001B[0m     verbose_eval\u001B[38;5;241m=\u001B[39mverbose,\n\u001B[0;32m   1118\u001B[0m     xgb_model\u001B[38;5;241m=\u001B[39mmodel,\n\u001B[0;32m   1119\u001B[0m     callbacks\u001B[38;5;241m=\u001B[39m\u001B[38;5;28mself\u001B[39m\u001B[38;5;241m.\u001B[39mcallbacks,\n\u001B[0;32m   1120\u001B[0m )\n\u001B[0;32m   1122\u001B[0m \u001B[38;5;28mself\u001B[39m\u001B[38;5;241m.\u001B[39m_set_evaluation_result(evals_result)\n\u001B[0;32m   1123\u001B[0m \u001B[38;5;28;01mreturn\u001B[39;00m \u001B[38;5;28mself\u001B[39m\n",
      "File \u001B[1;32m~\\miniconda3\\envs\\Minnong_pytorch_project\\Lib\\site-packages\\xgboost\\core.py:726\u001B[0m, in \u001B[0;36mrequire_keyword_args.<locals>.throw_if.<locals>.inner_f\u001B[1;34m(*args, **kwargs)\u001B[0m\n\u001B[0;32m    724\u001B[0m \u001B[38;5;28;01mfor\u001B[39;00m k, arg \u001B[38;5;129;01min\u001B[39;00m \u001B[38;5;28mzip\u001B[39m(sig\u001B[38;5;241m.\u001B[39mparameters, args):\n\u001B[0;32m    725\u001B[0m     kwargs[k] \u001B[38;5;241m=\u001B[39m arg\n\u001B[1;32m--> 726\u001B[0m \u001B[38;5;28;01mreturn\u001B[39;00m func(\u001B[38;5;241m*\u001B[39m\u001B[38;5;241m*\u001B[39mkwargs)\n",
      "File \u001B[1;32m~\\miniconda3\\envs\\Minnong_pytorch_project\\Lib\\site-packages\\xgboost\\training.py:181\u001B[0m, in \u001B[0;36mtrain\u001B[1;34m(params, dtrain, num_boost_round, evals, obj, feval, maximize, early_stopping_rounds, evals_result, verbose_eval, xgb_model, callbacks, custom_metric)\u001B[0m\n\u001B[0;32m    179\u001B[0m \u001B[38;5;28;01mif\u001B[39;00m cb_container\u001B[38;5;241m.\u001B[39mbefore_iteration(bst, i, dtrain, evals):\n\u001B[0;32m    180\u001B[0m     \u001B[38;5;28;01mbreak\u001B[39;00m\n\u001B[1;32m--> 181\u001B[0m bst\u001B[38;5;241m.\u001B[39mupdate(dtrain, iteration\u001B[38;5;241m=\u001B[39mi, fobj\u001B[38;5;241m=\u001B[39mobj)\n\u001B[0;32m    182\u001B[0m \u001B[38;5;28;01mif\u001B[39;00m cb_container\u001B[38;5;241m.\u001B[39mafter_iteration(bst, i, dtrain, evals):\n\u001B[0;32m    183\u001B[0m     \u001B[38;5;28;01mbreak\u001B[39;00m\n",
      "File \u001B[1;32m~\\miniconda3\\envs\\Minnong_pytorch_project\\Lib\\site-packages\\xgboost\\core.py:2101\u001B[0m, in \u001B[0;36mBooster.update\u001B[1;34m(self, dtrain, iteration, fobj)\u001B[0m\n\u001B[0;32m   2097\u001B[0m \u001B[38;5;28mself\u001B[39m\u001B[38;5;241m.\u001B[39m_assign_dmatrix_features(dtrain)\n\u001B[0;32m   2099\u001B[0m \u001B[38;5;28;01mif\u001B[39;00m fobj \u001B[38;5;129;01mis\u001B[39;00m \u001B[38;5;28;01mNone\u001B[39;00m:\n\u001B[0;32m   2100\u001B[0m     _check_call(\n\u001B[1;32m-> 2101\u001B[0m         _LIB\u001B[38;5;241m.\u001B[39mXGBoosterUpdateOneIter(\n\u001B[0;32m   2102\u001B[0m             \u001B[38;5;28mself\u001B[39m\u001B[38;5;241m.\u001B[39mhandle, ctypes\u001B[38;5;241m.\u001B[39mc_int(iteration), dtrain\u001B[38;5;241m.\u001B[39mhandle\n\u001B[0;32m   2103\u001B[0m         )\n\u001B[0;32m   2104\u001B[0m     )\n\u001B[0;32m   2105\u001B[0m \u001B[38;5;28;01melse\u001B[39;00m:\n\u001B[0;32m   2106\u001B[0m     pred \u001B[38;5;241m=\u001B[39m \u001B[38;5;28mself\u001B[39m\u001B[38;5;241m.\u001B[39mpredict(dtrain, output_margin\u001B[38;5;241m=\u001B[39m\u001B[38;5;28;01mTrue\u001B[39;00m, training\u001B[38;5;241m=\u001B[39m\u001B[38;5;28;01mTrue\u001B[39;00m)\n",
      "\u001B[1;31mKeyboardInterrupt\u001B[0m: "
     ]
    }
   ],
   "execution_count": 36
  },
  {
   "metadata": {
    "ExecuteTime": {
     "end_time": "2025-01-13T08:26:21.289382800Z",
     "start_time": "2025-01-13T08:23:58.651955Z"
    }
   },
   "cell_type": "code",
   "source": [
    "# 최적 하이퍼파라미터 출력\n",
    "print(\"Best Params:\", study_xgb.best_params)\n",
    "print(\"Best Value (RMSE):\", study_xgb.best_value)\n",
    "\n",
    "# 최적 하이퍼파라미터로 전체 학습 및 예측\n",
    "best_params = study_xgb.best_params\n",
    "final_model = xgb.XGBRegressor(objective='reg:squarederror', **best_params)\n",
    "final_model.fit(train_data_df, target_data_df)\n",
    "\n",
    "# 테스트 데이터 예측\n",
    "submit_test_df = test_data  # 테스트 데이터\n",
    "y_submit = final_model.predict(submit_test_df)\n",
    "\n",
    "# 제출 파일 생성\n",
    "submit_ID_df = pd.read_csv('test.csv')[['ID']]  # 테스트 파일 ID 열 가져오기\n",
    "submit_df = pd.DataFrame(y_submit, columns=['가격(백만원)'])\n",
    "final_submit_df = pd.concat([submit_ID_df, submit_df], axis=1)\n",
    "final_submit_df.to_csv('submit_xgb_kfold_이게_맞나.csv', index=False)\n",
    "\n",
    "print(\"최종 제출 파일 예시:\\n\", final_submit_df.head())"
   ],
   "id": "5801815b9dc2ec79",
   "outputs": [
    {
     "name": "stdout",
     "output_type": "stream",
     "text": [
      "Best Params: {'n_estimators': 183, 'max_depth': 7, 'learning_rate': 0.04286291804802631, 'min_child_weight': 2, 'subsample': 0.8418206958076482, 'colsample_bytree': 0.8847331357786226, 'gamma': 5.732052656515655e-08}\n",
      "Best Value (RMSE): 1.3214510122168115\n",
      "최종 제출 파일 예시:\n",
      "          ID     가격(백만원)\n",
      "0  TEST_000  130.647324\n",
      "1  TEST_001   80.010452\n",
      "2  TEST_002   65.133949\n",
      "3  TEST_003   34.953239\n",
      "4  TEST_004   47.917049\n"
     ]
    }
   ],
   "execution_count": 37
  }
 ],
 "metadata": {
  "kernelspec": {
   "display_name": "Python 3",
   "language": "python",
   "name": "python3"
  },
  "language_info": {
   "codemirror_mode": {
    "name": "ipython",
    "version": 2
   },
   "file_extension": ".py",
   "mimetype": "text/x-python",
   "name": "python",
   "nbconvert_exporter": "python",
   "pygments_lexer": "ipython2",
   "version": "2.7.6"
  }
 },
 "nbformat": 4,
 "nbformat_minor": 5
}
